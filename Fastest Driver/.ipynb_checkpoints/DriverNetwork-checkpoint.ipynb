{
 "cells": [
  {
   "cell_type": "code",
   "execution_count": 1,
   "id": "5e8a3c99",
   "metadata": {},
   "outputs": [],
   "source": [
    "import pandas as pd\n",
    "import numpy as np\n",
    "import sys\n",
    "from collections import deque"
   ]
  },
  {
   "cell_type": "code",
   "execution_count": 2,
   "id": "812914d9",
   "metadata": {},
   "outputs": [],
   "source": [
    "driverInfo = pd.read_csv('/Users/parthu/MyStuff/projects/Formula_One/Data Collection/driverInfo.csv')\n",
    "constructorInfo = pd.read_csv('/Users/parthu/MyStuff/projects/Formula_One/Data Collection/constructorInfo.csv')\n",
    "quali_results_I = pd.read_csv('/Users/parthu/MyStuff/projects/Formula_One/Data Collection/qualifying_results_I.csv')\n",
    "quali_results_II = pd.read_csv('/Users/parthu/MyStuff/projects/Formula_One/Data Collection/qualifying_results_II.csv')\n",
    "raceResults = pd.read_csv('/Users/parthu/MyStuff/projects/Formula_One/Data Collection/raceResults.csv')"
   ]
  },
  {
   "cell_type": "code",
   "execution_count": 3,
   "id": "b359c0e4",
   "metadata": {},
   "outputs": [],
   "source": [
    "raceDf = raceResults[['season','round','driverId','constructorId']]\n",
    "unionDf = pd.merge(raceDf,raceDf,how=\"left\",on=['season','round','constructorId'])\n",
    "driverMatedf = unionDf.loc[unionDf['driverId_x'] != unionDf['driverId_y']].reset_index(drop=True)"
   ]
  },
  {
   "cell_type": "code",
   "execution_count": 4,
   "id": "d68b4a71",
   "metadata": {},
   "outputs": [],
   "source": [
    "driverMateAgg = driverMatedf.groupby(['constructorId','driverId_x','driverId_y'])['round'].count().reset_index()\n",
    "driverMateAgg = driverMateAgg.loc[driverMateAgg['round'] > 3]\n",
    "drivers = driverMateAgg.groupby(['driverId_x'])['driverId_y'].apply(list).reset_index(name='teammates').rename(columns={'driverId_x':'driverID'})"
   ]
  },
  {
   "cell_type": "code",
   "execution_count": 5,
   "id": "3fc6f946",
   "metadata": {},
   "outputs": [],
   "source": [
    "number_drivers = drivers.shape[0]\n",
    "driver_network = np.zeros((number_drivers,number_drivers),dtype=int)\n",
    "for i in range(0,number_drivers):\n",
    "    for j in drivers['teammates'][i]:\n",
    "        ind = drivers.loc[drivers['driverID'] == j].index\n",
    "        driver_network[i][ind] = 1"
   ]
  },
  {
   "cell_type": "code",
   "execution_count": 7,
   "id": "4878cbc5",
   "metadata": {},
   "outputs": [],
   "source": [
    "def shortest_path(adj_matrix, start, end):\n",
    "    num_nodes = adj_matrix.shape[0]\n",
    "    \n",
    "    # Initialize distance array\n",
    "    distance = np.full(num_nodes, 1000, dtype=np.int64)\n",
    "    distance[start] = 0\n",
    "    \n",
    "    # Initialize set of unvisited nodes\n",
    "    unvisited = set(range(num_nodes))\n",
    "    \n",
    "    # Initialize previous node array to track the path\n",
    "    previous = np.full(num_nodes, None)\n",
    "    \n",
    "    while unvisited:\n",
    "        # Find the node with the minimum distance\n",
    "        min_node = min(unvisited, key=lambda node: distance[node])\n",
    "        \n",
    "        # Remove the minimum node from unvisited set\n",
    "        unvisited.remove(min_node)\n",
    "        \n",
    "        # Update distances for neighboring nodes\n",
    "        for neighbor in range(num_nodes):\n",
    "            if adj_matrix[min_node][neighbor] == 1:\n",
    "                new_distance = distance[min_node] + 1\n",
    "                if new_distance < distance[neighbor]:\n",
    "                    distance[neighbor] = new_distance\n",
    "                    previous[neighbor] = min_node\n",
    "    \n",
    "    # Build the shortest path\n",
    "    path = deque()\n",
    "    current = end\n",
    "    while current is not None:\n",
    "        path.appendleft(current)\n",
    "        current = previous[current]\n",
    "    \n",
    "    return list(path)"
   ]
  },
  {
   "cell_type": "code",
   "execution_count": 8,
   "id": "23aa5f8e",
   "metadata": {},
   "outputs": [
    {
     "name": "stdout",
     "output_type": "stream",
     "text": [
      "Shortest path between nodes 355 and 166 :\n",
      "[355, 39, 6, 386, 10, 166]\n"
     ]
    }
   ],
   "source": [
    "adj_matrix = np.array([\n",
    "    [0, 1, 1, 0, 0, 0],\n",
    "    [1, 0, 1, 1, 0, 0],\n",
    "    [1, 1, 0, 1, 1, 0],\n",
    "    [0, 1, 1, 0, 1, 1],\n",
    "    [0, 0, 1, 1, 0, 1],\n",
    "    [0, 0, 0, 1, 1, 0]\n",
    "])\n",
    "\n",
    "start_node = 355\n",
    "end_node = 166\n",
    "\n",
    "shortest_path_nodes = shortest_path(driver_network, start_node, end_node)\n",
    "\n",
    "print(\"Shortest path between nodes\", start_node, \"and\", end_node, \":\")\n",
    "print(shortest_path_nodes)"
   ]
  },
  {
   "cell_type": "markdown",
   "id": "8b6e6a07",
   "metadata": {},
   "source": [
    "cleaning the drivers name from qualifying dataset 1. \n",
    "\n",
    "clean the drivers name for all special characters and spaces"
   ]
  },
  {
   "cell_type": "code",
   "execution_count": 10,
   "id": "171d1ef4",
   "metadata": {},
   "outputs": [],
   "source": [
    "new = quali_results_I['Car'].str.split(\" \",expand=True)\n",
    "quali_results_I['DriverName'] = quali_results_I['Driver'].str[:-4].str.replace(\" \",\"\").str.replace(\"-\",\"\").str.normalize('NFKD').str.encode('ascii', errors='ignore').str.decode('utf-8')\n",
    "quali_results_I['DriverName'] = np.where((quali_results_I['DriverName'].str.contains('JacquesVilleneuve')) & (quali_results_I['season'] == 1983),quali_results_I['DriverName'].str.replace(\"JacquesVilleneuve\",\"JacquesVilleneuveSr.\"),quali_results_I['DriverName'])\n",
    "quali_results_I['Constructor'] = quali_results_I['Car'].str.split(\" \",expand=True)[0]"
   ]
  },
  {
   "cell_type": "code",
   "execution_count": 12,
   "id": "1164650d",
   "metadata": {
    "scrolled": true
   },
   "outputs": [],
   "source": [
    "driverInfo['DriverName'] = driverInfo['givenName'].str.replace(\" \",\"\").str.replace(\"-\",\"\").str.normalize('NFKD').str.encode('ascii', errors='ignore').str.decode('utf-8')+driverInfo['familyName'].str.replace(\" \",\"\").str.replace(\"-\",\"\").str.normalize('NFKD').str.encode('ascii', errors='ignore').str.decode('utf-8')\n",
    "join_df = pd.merge(quali_results_I,driverInfo,on=['season','DriverName'],how='left')[['Driver','Car','Time','season','round','DriverName','driverId','constructorId','Constructor']]\n",
    "final_df = pd.merge(join_df,constructorInfo[['constructorId','name','season']],on=['season','constructorId'],how='left')\n",
    "final_df['name'] = final_df['name'].astype(str)\n",
    "final_df['Constructor'] = final_df['Constructor'].astype(str)\n",
    "def check_partial_match(row):\n",
    "    return ((row['Constructor'] in row['name']) |\n",
    "            (('Larrousse' in row['name']) & ('Lola Ford' in row['Car']) & any(row['season'] == value for value in (1987,1988))) |\n",
    "            (('Larrousse' in row['name']) & ('Lola Lamborghini' in row['Car']) & any(row['season'] == value for value in (1989,1990))) |\n",
    "            (('Larrousse' in row['name']) & ('Venturi Lamborghini' in row['Car']) & (row['season'] == 1992))\n",
    "           )\n",
    "\n",
    "final_df['ConstructorMatch'] = final_df.apply(check_partial_match,axis=1)\n",
    "true_df = final_df[final_df['ConstructorMatch'] == True]"
   ]
  },
  {
   "cell_type": "code",
   "execution_count": 13,
   "id": "343f0a23",
   "metadata": {
    "scrolled": true
   },
   "outputs": [
    {
     "data": {
      "text/plain": [
       "(8505, 11)"
      ]
     },
     "execution_count": 13,
     "metadata": {},
     "output_type": "execute_result"
    }
   ],
   "source": [
    "quali_results_I.shape"
   ]
  },
  {
   "cell_type": "code",
   "execution_count": 14,
   "id": "e1c75141",
   "metadata": {},
   "outputs": [
    {
     "data": {
      "text/plain": [
       "(8504, 11)"
      ]
     },
     "execution_count": 14,
     "metadata": {},
     "output_type": "execute_result"
    }
   ],
   "source": [
    "true_df.shape"
   ]
  },
  {
   "cell_type": "code",
   "execution_count": null,
   "id": "a05f5dc6",
   "metadata": {},
   "outputs": [],
   "source": []
  }
 ],
 "metadata": {
  "kernelspec": {
   "display_name": "Python 3 (ipykernel)",
   "language": "python",
   "name": "python3"
  },
  "language_info": {
   "codemirror_mode": {
    "name": "ipython",
    "version": 3
   },
   "file_extension": ".py",
   "mimetype": "text/x-python",
   "name": "python",
   "nbconvert_exporter": "python",
   "pygments_lexer": "ipython3",
   "version": "3.8.13"
  }
 },
 "nbformat": 4,
 "nbformat_minor": 5
}
