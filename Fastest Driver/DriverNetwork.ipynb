{
 "cells": [
  {
   "cell_type": "code",
   "execution_count": 3,
   "id": "5e8a3c99",
   "metadata": {},
   "outputs": [],
   "source": [
    "import pandas as pd\n",
    "import numpy as np\n",
    "import sys\n",
    "from collections import deque"
   ]
  },
  {
   "cell_type": "code",
   "execution_count": 4,
   "id": "812914d9",
   "metadata": {},
   "outputs": [],
   "source": [
    "driverInfo = pd.read_csv('/Users/parthu/MyStuff/projects/Formula_One/Data Collection/driverInfo.csv')\n",
    "constructorInfo = pd.read_csv('/Users/parthu/MyStuff/projects/Formula_One/Data Collection/constructorInfo.csv')\n",
    "quali_results_I = pd.read_csv('/Users/parthu/MyStuff/projects/Formula_One/Data Collection/qualifying_results_I.csv')\n",
    "quali_results_II = pd.read_csv('/Users/parthu/MyStuff/projects/Formula_One/Data Collection/qualifying_results_II.csv')\n",
    "raceResults = pd.read_csv('/Users/parthu/MyStuff/projects/Formula_One/Data Collection/raceResults.csv')"
   ]
  },
  {
   "cell_type": "code",
   "execution_count": 5,
   "id": "b359c0e4",
   "metadata": {},
   "outputs": [],
   "source": [
    "raceDf = raceResults[['season','round','driverId','constructorId']]\n",
    "unionDf = pd.merge(raceDf,raceDf,how=\"left\",on=['season','round','constructorId'])\n",
    "driverMatedf = unionDf.loc[unionDf['driverId_x'] != unionDf['driverId_y']].reset_index(drop=True)"
   ]
  },
  {
   "cell_type": "code",
   "execution_count": 6,
   "id": "d68b4a71",
   "metadata": {},
   "outputs": [],
   "source": [
    "driverMateAgg = driverMatedf.groupby(['constructorId','driverId_x','driverId_y'])['round'].count().reset_index()\n",
    "driverMateAgg = driverMateAgg.loc[driverMateAgg['round'] > 3]\n",
    "drivers = driverMateAgg.groupby(['driverId_x'])['driverId_y'].apply(list).reset_index(name='teammates').rename(columns={'driverId_x':'driverID'})"
   ]
  },
  {
   "cell_type": "code",
   "execution_count": 7,
   "id": "3fc6f946",
   "metadata": {},
   "outputs": [],
   "source": [
    "number_drivers = drivers.shape[0]\n",
    "driver_network = np.zeros((number_drivers,number_drivers),dtype=int)\n",
    "for i in range(0,number_drivers):\n",
    "    for j in drivers['teammates'][i]:\n",
    "        ind = drivers.loc[drivers['driverID'] == j].index\n",
    "        driver_network[i][ind] = 1"
   ]
  },
  {
   "cell_type": "code",
   "execution_count": 8,
   "id": "4878cbc5",
   "metadata": {},
   "outputs": [],
   "source": [
    "def shortest_path(adj_matrix, start, end):\n",
    "    num_nodes = adj_matrix.shape[0]\n",
    "    \n",
    "    # Initialize distance array\n",
    "    distance = np.full(num_nodes, 1000, dtype=np.int64)\n",
    "    distance[start] = 0\n",
    "    \n",
    "    # Initialize set of unvisited nodes\n",
    "    unvisited = set(range(num_nodes))\n",
    "    \n",
    "    # Initialize previous node array to track the path\n",
    "    previous = np.full(num_nodes, None)\n",
    "    \n",
    "    while unvisited:\n",
    "        # Find the node with the minimum distance\n",
    "        min_node = min(unvisited, key=lambda node: distance[node])\n",
    "        \n",
    "        # Remove the minimum node from unvisited set\n",
    "        unvisited.remove(min_node)\n",
    "        \n",
    "        # Update distances for neighboring nodes\n",
    "        for neighbor in range(num_nodes):\n",
    "            if adj_matrix[min_node][neighbor] == 1:\n",
    "                new_distance = distance[min_node] + 1\n",
    "                if new_distance < distance[neighbor]:\n",
    "                    distance[neighbor] = new_distance\n",
    "                    previous[neighbor] = min_node\n",
    "    \n",
    "    # Build the shortest path\n",
    "    path = deque()\n",
    "    current = end\n",
    "    while current is not None:\n",
    "        path.appendleft(current)\n",
    "        current = previous[current]\n",
    "    \n",
    "    return list(path)"
   ]
  },
  {
   "cell_type": "code",
   "execution_count": 9,
   "id": "23aa5f8e",
   "metadata": {},
   "outputs": [
    {
     "name": "stdout",
     "output_type": "stream",
     "text": [
      "Shortest path between nodes 355 and 166 :\n",
      "[355, 39, 6, 386, 10, 166]\n"
     ]
    }
   ],
   "source": [
    "start_node = 355\n",
    "end_node = 166\n",
    "\n",
    "shortest_path_nodes = shortest_path(driver_network, start_node, end_node)\n",
    "\n",
    "print(\"Shortest path between nodes\", start_node, \"and\", end_node, \":\")\n",
    "print(shortest_path_nodes)"
   ]
  },
  {
   "cell_type": "code",
   "execution_count": 10,
   "id": "5e5fa12a",
   "metadata": {},
   "outputs": [],
   "source": [
    "def lap_time_to_seconds(lap_time_str):\n",
    "    try:\n",
    "        if pd.isnull(lap_time_str):\n",
    "            return np.inf\n",
    "        minutes, seconds = map(float, lap_time_str.split(':'))\n",
    "        return int(minutes) * 60 + float(seconds)\n",
    "    except (ValueError, AttributeError):\n",
    "        return np.inf"
   ]
  },
  {
   "cell_type": "markdown",
   "id": "74c7a62c",
   "metadata": {},
   "source": [
    "cleaning the drivers name from qualifying dataset 1. \n",
    "\n",
    "clean the drivers name for all special characters and spaces"
   ]
  },
  {
   "cell_type": "code",
   "execution_count": 27,
   "id": "171d1ef4",
   "metadata": {},
   "outputs": [],
   "source": [
    "new = quali_results_I['Car'].str.split(\" \",expand=True)\n",
    "quali_results_I['DriverName'] = quali_results_I['Driver'].str[:-4].str.replace(\" \",\"\").str.replace(\"-\",\"\").str.normalize('NFKD').str.encode('ascii', errors='ignore').str.decode('utf-8')\n",
    "quali_results_I['DriverName'] = np.where((quali_results_I['DriverName'].str.contains('JacquesVilleneuve')) & (quali_results_I['season'] == 1983),quali_results_I['DriverName'].str.replace(\"JacquesVilleneuve\",\"JacquesVilleneuveSr.\"),quali_results_I['DriverName'])\n",
    "quali_results_I['Constructor'] = quali_results_I['Car'].str.split(\" \",expand=True)[0]"
   ]
  },
  {
   "cell_type": "code",
   "execution_count": 28,
   "id": "1164650d",
   "metadata": {
    "scrolled": true
   },
   "outputs": [],
   "source": [
    "driverInfo['DriverName'] = driverInfo['givenName'].str.replace(\" \",\"\").str.replace(\"-\",\"\").str.normalize('NFKD').str.encode('ascii', errors='ignore').str.decode('utf-8')+driverInfo['familyName'].str.replace(\" \",\"\").str.replace(\"-\",\"\").str.normalize('NFKD').str.encode('ascii', errors='ignore').str.decode('utf-8')\n",
    "join_df = pd.merge(quali_results_I,driverInfo,on=['season','DriverName'],how='left')[['Pos','Driver','Car','Time','season','round','DriverName','driverId','constructorId','Constructor']]\n",
    "final_df = pd.merge(join_df,constructorInfo[['constructorId','name','season']],on=['season','constructorId'],how='left')\n",
    "final_df['name'] = final_df['name'].astype(str)\n",
    "final_df['Constructor'] = final_df['Constructor'].astype(str)\n",
    "def check_partial_match(row):\n",
    "    return ((row['Constructor'] in row['name']) |\n",
    "            (('Larrousse' in row['name']) & ('Lola Ford' in row['Car']) & any(row['season'] == value for value in (1987,1988))) |\n",
    "            (('Larrousse' in row['name']) & ('Lola Lamborghini' in row['Car']) & any(row['season'] == value for value in (1989,1990))) |\n",
    "            (('Larrousse' in row['name']) & ('Venturi Lamborghini' in row['Car']) & (row['season'] == 1992))\n",
    "           )\n",
    "\n",
    "final_df['ConstructorMatch'] = final_df.apply(check_partial_match,axis=1)\n",
    "true_df = final_df[final_df['ConstructorMatch'] == True].rename(columns={'Pos':'position'})\n",
    "true_df['Q_best'] = true_df['Time'].apply(lap_time_to_seconds)"
   ]
  },
  {
   "cell_type": "code",
   "execution_count": 29,
   "id": "81c39f8d",
   "metadata": {},
   "outputs": [],
   "source": [
    "quali_results_II['Q1_sec'] = quali_results_II['Q1'].apply(lap_time_to_seconds)\n",
    "quali_results_II['Q2_sec'] = quali_results_II['Q2'].apply(lap_time_to_seconds)\n",
    "quali_results_II['Q3_sec'] = quali_results_II['Q3'].apply(lap_time_to_seconds)\n",
    "quali_results_II['Q_best'] = quali_results_II[['Q1_sec', 'Q2_sec','Q3_sec']].min(axis=1)"
   ]
  },
  {
   "cell_type": "code",
   "execution_count": 30,
   "id": "9cb9633a",
   "metadata": {
    "scrolled": true
   },
   "outputs": [],
   "source": [
    "interested_df_II = quali_results_II[['season','round','position','driverId','constructorId','Q_best']]\n",
    "interested_df_I = true_df[['season','round','position','driverId','constructorId','Q_best']]\n",
    "interested_df = pd.concat([interested_df_I,interested_df_II],ignore_index=True)"
   ]
  },
  {
   "cell_type": "code",
   "execution_count": 31,
   "id": "0da380f9",
   "metadata": {},
   "outputs": [],
   "source": [
    "join_df = pd.merge(interested_df,interested_df,how=\"left\",on=['season','round','constructorId'])\n",
    "join_df = join_df.loc[join_df['driverId_x'] != join_df['driverId_y']]\n",
    "join_df['Q_diff'] = join_df['Q_best_x'] - join_df['Q_best_y']\n",
    "join_df['Diff_Percent'] = np.maximum(join_df['Q_best_x'],join_df['Q_best_y'])/np.minimum(join_df['Q_best_x'],join_df['Q_best_y'])"
   ]
  },
  {
   "cell_type": "code",
   "execution_count": 32,
   "id": "144f3235",
   "metadata": {
    "scrolled": true
   },
   "outputs": [],
   "source": [
    "quali_agg = join_df[(~np.isinf(join_df['Q_diff'])) & (join_df['Diff_Percent'] < 1.07)] \\\n",
    ".groupby(['driverId_x','driverId_y','constructorId']) \\\n",
    ".agg(Q_diff_mean=('Q_diff', 'mean'),count=('Q_diff', 'count')).reset_index()\n",
    "\n",
    "#quali_agg = quali_agg.loc[(quali_agg['count'] > 3) & (quali_agg['constructorId'] == 'mclaren')]\n",
    "quali_agg = quali_agg.loc[(quali_agg['count'] > 3)]"
   ]
  },
  {
   "cell_type": "code",
   "execution_count": 33,
   "id": "68aa2f72",
   "metadata": {},
   "outputs": [],
   "source": [
    "drivers = quali_agg.groupby(['driverId_x'])['driverId_y'].apply(list) \\\n",
    ".reset_index(name='teammates').rename(columns={'driverId_x':'driverId'})\n",
    "poles = interested_df.groupby(['driverId']).agg \\\n",
    "(poles = ('position', lambda x: ((x == '1') | (x == 1)).sum()),\n",
    "count = ('round','count')).reset_index()\n",
    "poles['pole_pct'] = poles['poles']/poles['count']\n",
    "drivers = pd.merge(drivers, poles, how=\"left\",on=['driverId'])"
   ]
  },
  {
   "cell_type": "code",
   "execution_count": 34,
   "id": "c34158b8",
   "metadata": {},
   "outputs": [],
   "source": [
    "number_drivers = drivers.shape[0]\n",
    "driver_network = np.zeros((number_drivers,number_drivers),dtype=float)\n",
    "for i in range(0,number_drivers):\n",
    "    for j in drivers['teammates'][i]:\n",
    "        ind = drivers.loc[drivers['driverId'] == j].index\n",
    "        time_diff = quali_agg.loc[(quali_agg['driverId_x'] == drivers['driverId'][i]) & \\\n",
    "                                               (quali_agg['driverId_y'] == j)]['Q_diff_mean'].iloc[0]\n",
    "        if time_diff > 0:\n",
    "            driver_network[i][ind] = time_diff"
   ]
  },
  {
   "cell_type": "code",
   "execution_count": 35,
   "id": "5c8976e6",
   "metadata": {},
   "outputs": [],
   "source": [
    "a = np.all(driver_network == 0, axis=1).astype(int).reshape(-1, 1)\n",
    "e = np.ones((number_drivers, 1))\n",
    "#v = np.ones((number_drivers, 1)) / number_drivers\n",
    "poles = (drivers['poles']/np.sum(drivers['pole_pct'])).values.reshape(-1,1)\n",
    "v = poles\n",
    "\n",
    "'''\n",
    "# Check for dangling nodes\n",
    "dangling_nodes = np.all(driver_network == 0, axis=1)\n",
    "\n",
    "# Handle dangling nodes\n",
    "if np.any(dangling_nodes):\n",
    "    # Calculate the sum of PageRank mass from dangling nodes\n",
    "    dangling_mass = v[dangling_nodes].sum()\n",
    "\n",
    "    # Redistribute the mass uniformly to all nodes\n",
    "    v[dangling_nodes] = dangling_mass / len(v)\n",
    "'''\n",
    "\n",
    "\n",
    "ae = np.dot(a, e.T) / number_drivers\n",
    "non_zero_rows = ~np.all(driver_network == 0, axis=1)\n",
    "H = np.zeros_like(driver_network, dtype=float)\n",
    "H[non_zero_rows] = driver_network[non_zero_rows] / driver_network[non_zero_rows].sum(axis=1, keepdims=True)\n",
    "H = H + ae"
   ]
  },
  {
   "cell_type": "code",
   "execution_count": 36,
   "id": "8d9e32a0",
   "metadata": {
    "scrolled": true
   },
   "outputs": [],
   "source": [
    "alpha = 0.85\n",
    "G = alpha * H + (1 - alpha) * v\n",
    "#G = alpha * H + (1 - alpha) * e * v.T\n",
    "pagerank_vector = np.ones((G.shape[0], 1)) / G.shape[0]\n",
    "\n",
    "# Set the convergence threshold\n",
    "epsilon = 1e-8\n",
    "\n",
    "# Set the maximum number of iterations (adjust as needed)\n",
    "max_iterations = 10000\n",
    "\n",
    "# Power iteration\n",
    "for iteration in range(max_iterations):\n",
    "    # Update the PageRank vector\n",
    "    new_pagerank_vector = np.dot(G, pagerank_vector)\n",
    "\n",
    "    # Check for convergence\n",
    "    #print(np.dot(pagerank_vector.T,new_pagerank_vector)/(np.linalg.norm(pagerank_vector)*np.linalg.norm(new_pagerank_vector)))\n",
    "    #print(np.linalg.norm(new_pagerank_vector - pagerank_vector, ord=1))\n",
    "    if np.linalg.norm(new_pagerank_vector - pagerank_vector, ord=1) < epsilon:\n",
    "        break\n",
    "\n",
    "    # Normalize the PageRank vector\n",
    "    pagerank_vector = new_pagerank_vector / np.sum(new_pagerank_vector)"
   ]
  },
  {
   "cell_type": "code",
   "execution_count": 37,
   "id": "966f13f7",
   "metadata": {},
   "outputs": [],
   "source": [
    "from collections import defaultdict\n",
    "driver_dict = defaultdict()\n",
    "for i in range(0,len(pagerank_vector)):\n",
    "    driver_dict[drivers.iloc[i]['driverId']] = pagerank_vector[i][0]"
   ]
  },
  {
   "cell_type": "code",
   "execution_count": 40,
   "id": "570d58f4",
   "metadata": {
    "scrolled": true
   },
   "outputs": [
    {
     "data": {
      "text/plain": [
       "[('hamilton', 0.1396050928852994),\n",
       " ('michael_schumacher', 0.09141994171134711),\n",
       " ('senna', 0.08522997654456342),\n",
       " ('vettel', 0.07497610719760672),\n",
       " ('mansell', 0.04214308646301054),\n",
       " ('rosberg', 0.039827495117080586),\n",
       " ('prost', 0.03634891600643277),\n",
       " ('hakkinen', 0.03406539923402194),\n",
       " ('alonso', 0.030257740842046653),\n",
       " ('bottas', 0.028655654716141798),\n",
       " ('damon_hill', 0.026534550990076476),\n",
       " ('max_verstappen', 0.026261134082044366),\n",
       " ('raikkonen', 0.02581192896423112),\n",
       " ('piquet', 0.02406598376366677),\n",
       " ('leclerc', 0.022383459012217676),\n",
       " ('massa', 0.022076210608866165),\n",
       " ('barrichello', 0.019868677027046637),\n",
       " ('webber', 0.01774112429553343),\n",
       " ('villeneuve', 0.0175299344047948),\n",
       " ('berger', 0.01687731525554139),\n",
       " ('coulthard', 0.016368461617283985),\n",
       " ('montoya', 0.01626327224231377),\n",
       " ('button', 0.011399857486288328),\n",
       " ('patrese', 0.01081381108458238),\n",
       " ('ralf_schumacher', 0.008001680644667048)]"
      ]
     },
     "execution_count": 40,
     "metadata": {},
     "output_type": "execute_result"
    }
   ],
   "source": [
    "sorted(driver_dict.items(), key=lambda item: item[1], reverse=True)[:25]"
   ]
  }
 ],
 "metadata": {
  "kernelspec": {
   "display_name": "Python 3 (ipykernel)",
   "language": "python",
   "name": "python3"
  },
  "language_info": {
   "codemirror_mode": {
    "name": "ipython",
    "version": 3
   },
   "file_extension": ".py",
   "mimetype": "text/x-python",
   "name": "python",
   "nbconvert_exporter": "python",
   "pygments_lexer": "ipython3",
   "version": "3.8.13"
  }
 },
 "nbformat": 4,
 "nbformat_minor": 5
}
